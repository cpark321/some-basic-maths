{
 "cells": [
  {
   "attachments": {
    "image.png": {
     "image/png": "[encoded data removed]"
    }
   },
   "cell_type": "markdown",
   "metadata": {},
   "source": [
    "### Euler's method \n",
    ">Euler's method is a numerical method to solve first order first degree differential equation with a given initial value. \n",
    "<img src=attachment:image.png width=150>"
   ]
  },
  {
   "cell_type": "markdown",
   "metadata": {},
   "source": [
    "- There is some rule that determines the rate of change of s that depends on s: \n",
    "$$\\frac{ds}{dt} = f_s(s,t)$$\n",
    "- If we have a rule like this, and we know the initial state of the system, Euler's method allows us to estimate the state at a later time.\n",
    "\n",
    "$$\\frac{\\Delta s}{\\Delta t} \\approx \\frac{ds}{dt} = f_s(s,t)$$\n",
    "\n",
    "$$\\Delta s \\approx f_s(s,t) \\Delta t$$\n",
    "\n",
    "$$s_{\\rm new} = s_{\\rm old} + \\Delta s$$"
   ]
  },
  {
   "cell_type": "markdown",
   "metadata": {},
   "source": [
    "#### Radioactive Decay example\n",
    "In radioactive decay the rate of decay is proportional to the number of radioactive nuclei in the sample at any given time.\n",
    "\n",
    "**s** = number of nuclei left\n",
    "\n",
    "$$\\frac{ds}{dt} = f_s(s,t) = - \\lambda s$$\n",
    "    \n",
    "Let's say we start with s=100 nuclei, $\\lambda=0.01$ (1 per 100 seconds of time per source nucleon). How many nuclei will be left after 10 seconds? "
   ]
  },
  {
   "cell_type": "markdown",
   "metadata": {},
   "source": [
    "- Analytic solution $ s=s_0e^{-0.01t}$  "
   ]
  },
  {
   "cell_type": "code",
   "execution_count": 1,
   "metadata": {},
   "outputs": [
    {
     "name": "stdout",
     "output_type": "stream",
     "text": [
      "90.48374180359595\n"
     ]
    }
   ],
   "source": [
    "import numpy as np\n",
    "\n",
    "s = 100. * np.e**(-0.1)\n",
    "print(s)"
   ]
  },
  {
   "cell_type": "markdown",
   "metadata": {},
   "source": [
    "- Let dt=1.0"
   ]
  },
  {
   "cell_type": "code",
   "execution_count": 2,
   "metadata": {},
   "outputs": [
    {
     "name": "stdout",
     "output_type": "stream",
     "text": [
      "t     s\n",
      "0.0 100.0\n",
      "1.0 99.0\n",
      "2.0 98.01\n",
      "3.0 97.02990000000001\n",
      "4.0 96.05960100000001\n",
      "5.0 95.09900499000001\n",
      "6.0 94.14801494010001\n",
      "7.0 93.20653479069901\n",
      "8.0 92.27446944279203\n",
      "9.0 91.3517247483641\n",
      "10.0 90.43820750088047\n"
     ]
    }
   ],
   "source": [
    "lambda_=0.01\n",
    "dt=1.0\n",
    "s=s0=100.0\n",
    "t=0.0\n",
    "\n",
    "def f_s(s,t):         # define a function that describes the rate of change of 's'\n",
    "    return -lambda_*s\n",
    "\n",
    "print ('t     s')     \n",
    "for i in range(11):\n",
    "    print (t,s)       \n",
    "    ds = f_s(s,t)*dt  # compute the change in 's' using the 'rule' that ds/dt = f(s,t)\n",
    "    s = s + ds      \n",
    "    t = t + dt"
   ]
  },
  {
   "cell_type": "markdown",
   "metadata": {},
   "source": [
    "- Let dt=0.001"
   ]
  },
  {
   "cell_type": "code",
   "execution_count": 3,
   "metadata": {},
   "outputs": [
    {
     "name": "stdout",
     "output_type": "stream",
     "text": [
      "t     s\n",
      "0.0 100.0\n",
      "1.0000000000000007 99.00497842463484\n",
      "1.9999999999998905 98.01985752862426\n",
      "2.9999999999997806 97.04453879807218\n",
      "3.9999999999996705 96.07892469931771\n",
      "5.000000000000004 95.12291866918062\n",
      "6.000000000000338 94.17642510530521\n",
      "7.000000000000672 93.23934935659989\n",
      "8.000000000001005 92.31159771377149\n",
      "9.000000000000451 91.39307739995509\n",
      "9.999999999999897 90.48369656143524\n"
     ]
    }
   ],
   "source": [
    "lambda_=0.01\n",
    "dt=0.001\n",
    "s=s0=100.0\n",
    "t=0.0\n",
    "\n",
    "def f_s(s,t):         # define a function that describes the rate of change of 's'\n",
    "    return -lambda_*s\n",
    "\n",
    "print ('t     s')     \n",
    "for i in range(10001):\n",
    "    if i%1000==0:\n",
    "        print (t,s)       \n",
    "    ds = f_s(s,t)*dt  # compute the change in 's' using the 'rule' that ds/dt = f(s,t)\n",
    "    s = s + ds      \n",
    "    t = t + dt"
   ]
  },
  {
   "cell_type": "markdown",
   "metadata": {},
   "source": [
    "### Taylor Series"
   ]
  },
  {
   "cell_type": "code",
   "execution_count": 4,
   "metadata": {},
   "outputs": [
    {
     "data": {
      "text/plain": [
       "<Figure size 640x480 with 1 Axes>"
      ]
     },
     "metadata": {},
     "output_type": "display_data"
    }
   ],
   "source": [
    "import numpy as np\n",
    "import matplotlib.pyplot as plt\n",
    "\n",
    "s=1.0\n",
    "x_=np.linspace(1.03,1.2,100)\n",
    "U_0=1.0\n",
    "\n",
    "U=U_0*((s/x_)**12-(s/x_)**6)\n",
    "\n",
    "plt.plot(x_,U, 'k')\n",
    "plt.show()"
   ]
  },
  {
   "cell_type": "code",
   "execution_count": 5,
   "metadata": {},
   "outputs": [],
   "source": [
    "from sympy import *\n",
    "from sympy import lambdify"
   ]
  },
  {
   "cell_type": "code",
   "execution_count": 6,
   "metadata": {},
   "outputs": [],
   "source": [
    "init_printing(pretty_print=True)"
   ]
  },
  {
   "cell_type": "code",
   "execution_count": 7,
   "metadata": {},
   "outputs": [],
   "source": [
    "x=symbols('x', real=True)\n",
    "U=((1/x)**12-(1/x)**6)"
   ]
  },
  {
   "cell_type": "code",
   "execution_count": 8,
   "metadata": {},
   "outputs": [
    {
     "data": {
      "image/png": "[encoded data removed]",
      "text/latex": [
       "$\\displaystyle - \\frac{1}{x^{6}} + \\frac{1}{x^{12}}$"
      ],
      "text/plain": [
       "  1     1 \n",
       "- ── + ───\n",
       "   6    12\n",
       "  x    x  "
      ]
     },
     "execution_count": 8,
     "metadata": {},
     "output_type": "execute_result"
    }
   ],
   "source": [
    "U"
   ]
  },
  {
   "cell_type": "code",
   "execution_count": 9,
   "metadata": {},
   "outputs": [
    {
     "data": {
      "image/png": "[encoded data removed]",
      "text/latex": [
       "$\\displaystyle \\frac{6}{x^{7}} - \\frac{12}{x^{13}}$"
      ],
      "text/plain": [
       "6     12\n",
       "── - ───\n",
       " 7    13\n",
       "x    x  "
      ]
     },
     "execution_count": 9,
     "metadata": {},
     "output_type": "execute_result"
    }
   ],
   "source": [
    "U_prime=U.diff(x)\n",
    "U_prime"
   ]
  },
  {
   "cell_type": "code",
   "execution_count": 10,
   "metadata": {},
   "outputs": [
    {
     "data": {
      "image/png": "[encoded data removed]",
      "text/latex": [
       "$\\displaystyle - \\frac{42}{x^{8}} + \\frac{156}{x^{14}}$"
      ],
      "text/plain": [
       "  42   156\n",
       "- ── + ───\n",
       "   8    14\n",
       "  x    x  "
      ]
     },
     "execution_count": 10,
     "metadata": {},
     "output_type": "execute_result"
    }
   ],
   "source": [
    "U_pp = U_prime.diff(x)\n",
    "U_pp"
   ]
  },
  {
   "cell_type": "markdown",
   "metadata": {},
   "source": [
    " Taylor series \n",
    " $$ f(a) + \\frac{f'(a)}{1!}(x-a) + \\frac{f''(a)}{2!}(x-a)^2+ \\dots$$"
   ]
  },
  {
   "cell_type": "code",
   "execution_count": 11,
   "metadata": {},
   "outputs": [],
   "source": [
    "a=1.125\n",
    "U_Taylor= U.subs(x, a) + U_prime.subs(x,a)*(x-a) + U_pp.subs(x,a)/2.*(x-a)**2"
   ]
  },
  {
   "cell_type": "code",
   "execution_count": 12,
   "metadata": {},
   "outputs": [
    {
     "data": {
      "image/png": "[encoded data removed]",
      "text/latex": [
       "$\\displaystyle 0.0354092527358807 x + 6.81081138273594 \\left(x - 1.125\\right)^{2} - 0.289790118908141$"
      ],
      "text/plain": [
       "                                                   2                    \n",
       "0.0354092527358807⋅x + 6.81081138273594⋅(x - 1.125)  - 0.289790118908141"
      ]
     },
     "execution_count": 12,
     "metadata": {},
     "output_type": "execute_result"
    }
   ],
   "source": [
    "U_Taylor"
   ]
  },
  {
   "cell_type": "code",
   "execution_count": 13,
   "metadata": {},
   "outputs": [],
   "source": [
    "lamda_taylor = lambdify(x, U_Taylor, modules=['numpy'])\n",
    "lamda_U = lambdify(x, U, modules=['numpy'])"
   ]
  },
  {
   "cell_type": "code",
   "execution_count": 14,
   "metadata": {},
   "outputs": [],
   "source": [
    "y_taylor = lamda_taylor(x_)\n",
    "y_U = lamda_U(x_)"
   ]
  },
  {
   "cell_type": "code",
   "execution_count": 15,
   "metadata": {},
   "outputs": [
    {
     "data": {
      "image/png": "[encoded data removed]",
      "text/plain": [
       "<Figure size 432x288 with 1 Axes>"
      ]
     },
     "metadata": {
      "needs_background": "light"
     },
     "output_type": "display_data"
    }
   ],
   "source": [
    "plt.plot(x_, y_taylor, 'b')\n",
    "plt.plot(x_,y_U, 'k')\n",
    "plt.show()"
   ]
  },
  {
   "cell_type": "code",
   "execution_count": null,
   "metadata": {},
   "outputs": [],
   "source": []
  }
 ],
 "metadata": {
  "kernelspec": {
   "display_name": "Python [conda env:torch] *",
   "language": "python",
   "name": "conda-env-torch-py"
  },
  "language_info": {
   "codemirror_mode": {
    "name": "ipython",
    "version": 3
   },
   "file_extension": ".py",
   "mimetype": "text/x-python",
   "name": "python",
   "nbconvert_exporter": "python",
   "pygments_lexer": "ipython3",
   "version": "3.6.8"
  }
 },
 "nbformat": 4,
 "nbformat_minor": 2
}
